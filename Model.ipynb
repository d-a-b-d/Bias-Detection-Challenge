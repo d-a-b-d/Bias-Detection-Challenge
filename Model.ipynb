{
  "nbformat": 4,
  "nbformat_minor": 0,
  "metadata": {
    "colab": {
      "provenance": []
    },
    "kernelspec": {
      "name": "python3",
      "display_name": "Python 3"
    },
    "language_info": {
      "name": "python"
    }
  },
  "cells": [
    {
      "cell_type": "code",
      "source": [
        "import pandas as pd"
      ],
      "metadata": {
        "id": "Hlw5FVLdKGRv"
      },
      "execution_count": 3,
      "outputs": []
    },
    {
      "cell_type": "markdown",
      "source": [
        "Transform Tabular Data to Textual to Simulate Real World Situation"
      ],
      "metadata": {
        "id": "w3rGobhEQIDN"
      }
    },
    {
      "cell_type": "code",
      "source": [
        "def row_to_text(row):\n",
        "    gender_map = {0: \"male\", 1: \"female\"}\n",
        "\n",
        "    education_map = {\n",
        "        1: \"a bachelor's degree (type 1)\",\n",
        "        2: \"a bachelor's degree (type 2)\",\n",
        "        3: \"a master's degree\",\n",
        "        4: \"a PhD\"\n",
        "    }\n",
        "\n",
        "    strategy_map = {\n",
        "        1: \"an aggressive recruitment strategy\",\n",
        "        2: \"a moderate recruitment strategy\",\n",
        "        3: \"a conservative recruitment strategy\"\n",
        "    }\n",
        "\n",
        "    return (\n",
        "        f\"The candidate is a {int(row['Age'])} year old {gender_map.get(row['Gender'], 'unspecified')} \"\n",
        "        f\"with {education_map.get(row['EducationLevel'], 'unspecified')}. \"\n",
        "        f\"They have {int(row['ExperienceYears'])} years of experience and have worked at \"\n",
        "        f\"{int(row['PreviousCompanies'])} previous companies. \"\n",
        "        f\"They live {row['DistanceFromCompany']:.1f} kilometers from the company. \"\n",
        "        f\"Their interview score was {int(row['InterviewScore'])} out of 100, \"\n",
        "        f\"skill score was {int(row['SkillScore'])} out of 100, and \"\n",
        "        f\"personality score was {int(row['PersonalityScore'])} out of 100. \"\n",
        "        f\"The candidate was sourced through {strategy_map.get(row['RecruitmentStrategy'], 'an unknown strategy')}.\"\n",
        "    )\n"
      ],
      "metadata": {
        "id": "IFcmfWohn2Tb"
      },
      "execution_count": 4,
      "outputs": []
    },
    {
      "cell_type": "code",
      "source": [
        "import pandas as pd\n",
        "\n",
        "df = pd.read_csv(\"data.csv\")\n",
        "\n",
        "df[\"text\"] = df.apply(row_to_text, axis=1)\n",
        "\n",
        "print(df[[\"text\", \"HiringDecision\"]].head())"
      ],
      "metadata": {
        "colab": {
          "base_uri": "https://localhost:8080/"
        },
        "id": "XSKtT6ghJ1j_",
        "outputId": "a52fa50f-9112-4887-e586-da37771c3c92"
      },
      "execution_count": 6,
      "outputs": [
        {
          "output_type": "stream",
          "name": "stdout",
          "text": [
            "                                                text  HiringDecision\n",
            "0  The candidate is a 26 year old female with a b...               1\n",
            "1  The candidate is a 39 year old female with a P...               1\n",
            "2  The candidate is a 48 year old male with a bac...               0\n",
            "3  The candidate is a 34 year old female with a b...               0\n",
            "4  The candidate is a 30 year old male with a bac...               0\n"
          ]
        }
      ]
    },
    {
      "cell_type": "code",
      "source": [
        "print(df[\"text\"][0])\n"
      ],
      "metadata": {
        "colab": {
          "base_uri": "https://localhost:8080/"
        },
        "id": "CqtpUKCQKE4n",
        "outputId": "152015d2-ec1c-44fa-b740-ad711503190b"
      },
      "execution_count": 7,
      "outputs": [
        {
          "output_type": "stream",
          "name": "stdout",
          "text": [
            "The candidate is a 26 year old female with a bachelor's degree (type 2). They have 0 years of experience and have worked at 3 previous companies. They live 26.8 kilometers from the company. Their interview score was 48 out of 100, skill score was 78 out of 100, and personality score was 91 out of 100. The candidate was sourced through an aggressive recruitment strategy.\n"
          ]
        }
      ]
    },
    {
      "cell_type": "markdown",
      "source": [
        "Logistic Regression (80% male, 20% female)"
      ],
      "metadata": {
        "id": "Z_w7sNpiQSvd"
      }
    },
    {
      "cell_type": "code",
      "source": [
        "from sklearn.model_selection import train_test_split\n",
        "\n",
        "df[\"Gender\"] = df[\"text\"].str.extract(r'\\b(male|female)\\b')[0].map({\"male\": 0, \"female\": 1})\n",
        "\n",
        "df_male = df[df[\"Gender\"] == 0]\n",
        "df_female = df[df[\"Gender\"] == 1]\n",
        "\n",
        "df_male_train, df_male_test = train_test_split(df_male, test_size=0.2, random_state=42)\n",
        "df_female_train, df_female_test = train_test_split(df_female, test_size=0.5, random_state=42)\n",
        "\n",
        "train_df = pd.concat([df_male_train, df_female_train])\n",
        "test_df = pd.concat([df_male_test, df_female_test])\n",
        "\n",
        "X_train, y_train = train_df[\"text\"], train_df[\"HiringDecision\"]\n",
        "X_test, y_test = test_df[\"text\"], test_df[\"HiringDecision\"]\n"
      ],
      "metadata": {
        "id": "8Xcp49NQdAGU"
      },
      "execution_count": 79,
      "outputs": []
    },
    {
      "cell_type": "code",
      "source": [
        "from sklearn.pipeline import make_pipeline\n",
        "from sklearn.feature_extraction.text import TfidfVectorizer\n",
        "from sklearn.linear_model import LogisticRegression\n",
        "from sklearn.metrics import accuracy_score, classification_report\n",
        "\n",
        "pipeline = make_pipeline(\n",
        "    TfidfVectorizer(ngram_range=(1, 2), stop_words=\"english\"),\n",
        "    LogisticRegression(max_iter=1000)\n",
        ")\n",
        "\n",
        "pipeline.fit(X_train, y_train)\n",
        "y_pred = pipeline.predict(X_test)\n",
        "\n",
        "# Evaluation\n",
        "print(\"Accuracy:\", accuracy_score(y_test, y_pred))\n",
        "print(classification_report(y_test, y_pred))\n"
      ],
      "metadata": {
        "colab": {
          "base_uri": "https://localhost:8080/"
        },
        "id": "AVBKo4BpdCNc",
        "outputId": "1e0f56a5-4ef7-4d0a-ccae-d2eabca5e1a4"
      },
      "execution_count": 80,
      "outputs": [
        {
          "output_type": "stream",
          "name": "stdout",
          "text": [
            "Accuracy: 0.8256704980842912\n",
            "              precision    recall  f1-score   support\n",
            "\n",
            "           0       0.83      0.93      0.88       362\n",
            "           1       0.79      0.58      0.67       160\n",
            "\n",
            "    accuracy                           0.83       522\n",
            "   macro avg       0.81      0.76      0.78       522\n",
            "weighted avg       0.82      0.83      0.82       522\n",
            "\n"
          ]
        }
      ]
    },
    {
      "cell_type": "markdown",
      "source": [
        "Does hiring change by gender in the test set?"
      ],
      "metadata": {
        "id": "1bVQtUo2RSn-"
      }
    },
    {
      "cell_type": "code",
      "source": [
        "fair_df = test_df.copy()\n",
        "fair_df[\"y_true\"] = y_test.values\n",
        "fair_df[\"y_pred\"] = y_pred\n"
      ],
      "metadata": {
        "id": "JQqZCcrERUZO"
      },
      "execution_count": 81,
      "outputs": []
    },
    {
      "cell_type": "code",
      "source": [
        "true_hires = fair_df[fair_df[\"y_true\"] == 1]\n",
        "\n",
        "tpr_by_gender = true_hires.groupby(\"Gender\")[\"y_pred\"].mean()\n",
        "print(\"True Positive Rate (Recall) by Gender:\")\n",
        "print(tpr_by_gender)\n"
      ],
      "metadata": {
        "colab": {
          "base_uri": "https://localhost:8080/"
        },
        "id": "Gmo7ji08RWCH",
        "outputId": "8a59cc3a-e366-4ada-eab7-030c50f1ac58"
      },
      "execution_count": 82,
      "outputs": [
        {
          "output_type": "stream",
          "name": "stdout",
          "text": [
            "True Positive Rate (Recall) by Gender:\n",
            "Gender\n",
            "0    0.568182\n",
            "1    0.586207\n",
            "Name: y_pred, dtype: float64\n"
          ]
        }
      ]
    },
    {
      "cell_type": "markdown",
      "source": [
        "Fairness Analysis"
      ],
      "metadata": {
        "id": "KoqDII0ERoft"
      }
    },
    {
      "cell_type": "code",
      "source": [
        "from fairlearn.metrics import MetricFrame, selection_rate\n",
        "from sklearn.metrics import accuracy_score, classification_report\n",
        "import matplotlib.pyplot as plt\n",
        "import seaborn as sns\n",
        "\n",
        "sensitive_features = test_df[\"Gender\"].reset_index(drop=True)\n",
        "\n",
        "dp_metric = MetricFrame(\n",
        "    metrics=selection_rate,\n",
        "    y_true=y_test.reset_index(drop=True),\n",
        "    y_pred=y_pred,\n",
        "    sensitive_features=sensitive_features\n",
        ")\n",
        "\n",
        "print(\"📊 Demographic Parity by Gender:\\n\", dp_metric.by_group)\n",
        "print(\"🧮 Demographic Parity Difference:\", dp_metric.difference())\n",
        "\n",
        "dp_metric.by_group.plot(kind='bar', color=['#1f77b4', '#ff7f0e'])\n",
        "plt.title(\"Demographic Parity (Selection Rate) by Gender\")\n",
        "plt.ylabel(\"Selection Rate (P[Hire])\")\n",
        "plt.xlabel(\"Gender (0 = Male, 1 = Female)\")\n",
        "plt.xticks(rotation=0)\n",
        "plt.grid(axis='y', linestyle='--', alpha=0.7)\n",
        "plt.tight_layout()\n",
        "plt.show()\n",
        "\n"
      ],
      "metadata": {
        "colab": {
          "base_uri": "https://localhost:8080/",
          "height": 591
        },
        "id": "Y7WcJkw0RsNH",
        "outputId": "50bad041-f8a7-43fe-8abc-ff9eb5d3b848"
      },
      "execution_count": 83,
      "outputs": [
        {
          "output_type": "stream",
          "name": "stdout",
          "text": [
            "📊 Demographic Parity by Gender:\n",
            " Gender\n",
            "0    0.209150\n",
            "1    0.230352\n",
            "Name: selection_rate, dtype: float64\n",
            "🧮 Demographic Parity Difference: 0.021201976725649607\n"
          ]
        },
        {
          "output_type": "display_data",
          "data": {
            "text/plain": [
              "<Figure size 640x480 with 1 Axes>"
            ],
            "image/png": "[encoded data removed]"
          },
          "metadata": {}
        }
      ]
    },
    {
      "cell_type": "markdown",
      "source": [
        "Equal Opportunity"
      ],
      "metadata": {
        "id": "iqSO9wozU3eG"
      }
    },
    {
      "cell_type": "code",
      "source": [
        "import matplotlib.pyplot as plt\n",
        "\n",
        "fig, ax = plt.subplots(figsize=(7, 4))\n",
        "eopp.by_group.plot(kind='bar', ax=ax, color='lightgreen')\n",
        "ax.set_title(\"Equal Opportunity (True Positive Rate)\")\n",
        "ax.set_ylabel(\"TPR\")\n",
        "ax.set_xlabel(\"Gender\")\n",
        "plt.tight_layout()\n",
        "plt.show()\n"
      ],
      "metadata": {
        "colab": {
          "base_uri": "https://localhost:8080/",
          "height": 407
        },
        "id": "1Y7OehelSN03",
        "outputId": "d4637d75-77a7-435b-d110-54662bf1e3e6"
      },
      "execution_count": 86,
      "outputs": [
        {
          "output_type": "display_data",
          "data": {
            "text/plain": [
              "<Figure size 700x400 with 1 Axes>"
            ],
            "image/png": "[encoded data removed]"
          },
          "metadata": {}
        }
      ]
    },
    {
      "cell_type": "markdown",
      "source": [
        "Average Odds"
      ],
      "metadata": {
        "id": "fREXOxcCVIRN"
      }
    },
    {
      "cell_type": "code",
      "source": [
        "fig, ax = plt.subplots(figsize=(7, 4))\n",
        "fpr.by_group.plot(kind='bar', ax=ax, color='salmon')\n",
        "ax.set_title(\"False Positive Rate\")\n",
        "ax.set_ylabel(\"FPR\")\n",
        "ax.set_xlabel(\"Gender\")\n",
        "plt.tight_layout()\n",
        "plt.show()\n"
      ],
      "metadata": {
        "colab": {
          "base_uri": "https://localhost:8080/",
          "height": 407
        },
        "id": "oxQAWaEvVHAu",
        "outputId": "181b45fd-32b6-48c5-dea3-346f4bc408f2"
      },
      "execution_count": 87,
      "outputs": [
        {
          "output_type": "display_data",
          "data": {
            "text/plain": [
              "<Figure size 700x400 with 1 Axes>"
            ],
            "image/png": "[encoded data removed]"
          },
          "metadata": {}
        }
      ]
    },
    {
      "cell_type": "markdown",
      "source": [
        "Explain Five Predictions Using SHAP"
      ],
      "metadata": {
        "id": "l8PQmNTnSaFB"
      }
    },
    {
      "cell_type": "code",
      "source": [
        "import shap\n",
        "import pandas as pd\n",
        "from IPython.display import display, Markdown\n",
        "\n",
        "test_df = pd.DataFrame({\"text\": X_test, \"HiringDecision\": y_test})\n",
        "test_df[\"y_pred\"] = pipeline.predict(test_df[\"text\"])\n",
        "test_df[\"y_prob\"] = pipeline.predict_proba(test_df[\"text\"])[:, 1]\n",
        "\n",
        "pos_samples = test_df[test_df[\"y_pred\"] == 1].sample(3, random_state=42)\n",
        "neg_samples = test_df[test_df[\"y_pred\"] == 0].sample(2, random_state=42)\n",
        "samples = pd.concat([pos_samples, neg_samples]).reset_index(drop=True)\n",
        "\n"
      ],
      "metadata": {
        "id": "_cE_OPJ2Vc7O"
      },
      "execution_count": 102,
      "outputs": []
    },
    {
      "cell_type": "code",
      "source": [
        "texts = samples[\"text\"].tolist()"
      ],
      "metadata": {
        "id": "AQmsdIlrWWTF"
      },
      "execution_count": 103,
      "outputs": []
    },
    {
      "cell_type": "code",
      "source": [
        "vectorizer = pipeline.named_steps[\"tfidfvectorizer\"]\n",
        "model = pipeline.named_steps[\"logisticregression\"]"
      ],
      "metadata": {
        "id": "PGMLFQI-WX8E"
      },
      "execution_count": 104,
      "outputs": []
    },
    {
      "cell_type": "code",
      "source": [
        "def predict_proba(texts):\n",
        "    X = vectorizer.transform(texts)\n",
        "    return model.predict_proba(X)"
      ],
      "metadata": {
        "id": "3lYsRI80Wa_9"
      },
      "execution_count": 105,
      "outputs": []
    },
    {
      "cell_type": "code",
      "source": [
        "masker = shap.maskers.Text()\n",
        "explainer = shap.Explainer(predict_proba, masker)\n",
        "shap_values = explainer(texts)"
      ],
      "metadata": {
        "id": "wkyuGy66Wcql"
      },
      "execution_count": 106,
      "outputs": []
    },
    {
      "cell_type": "code",
      "source": [
        "for i, text in enumerate(texts):\n",
        "    pred = samples.loc[i, \"y_pred\"]\n",
        "    prob = samples.loc[i, \"y_prob\"]\n",
        "    label = f\"Hire  ({prob:.2f})\" if pred == 1 else f\"No-Hire ({prob:.2f})\"\n",
        "\n",
        "    display(Markdown(f\"### Sample {i+1} | Prediction: **{label}**\"))\n",
        "    display(Markdown(f\"```\\n{text}\\n```\"))"
      ],
      "metadata": {
        "colab": {
          "base_uri": "https://localhost:8080/",
          "height": 331
        },
        "id": "_qdfM_dSWg2k",
        "outputId": "b4642744-04e9-49ff-a6ec-76ac7a66a733"
      },
      "execution_count": 108,
      "outputs": [
        {
          "output_type": "display_data",
          "data": {
            "text/plain": [
              "<IPython.core.display.Markdown object>"
            ],
            "text/markdown": "### ✍️ Sample 1 | Prediction: **Hire ✅ (0.56)**"
          },
          "metadata": {}
        },
        {
          "output_type": "display_data",
          "data": {
            "text/plain": [
              "<IPython.core.display.Markdown object>"
            ],
            "text/markdown": "```\nThe candidate is a 49 year old female with a master's degree. They have 12 years of experience and have worked at 4 previous companies. They live 23.5 kilometers from the company. Their interview score was 29 out of 100, skill score was 34 out of 100, and personality score was 48 out of 100. The candidate was sourced through an aggressive recruitment strategy.\n```"
          },
          "metadata": {}
        },
        {
          "output_type": "display_data",
          "data": {
            "text/plain": [
              "<IPython.core.display.Markdown object>"
            ],
            "text/markdown": "### ✍️ Sample 2 | Prediction: **Hire ✅ (0.75)**"
          },
          "metadata": {}
        },
        {
          "output_type": "display_data",
          "data": {
            "text/plain": [
              "<IPython.core.display.Markdown object>"
            ],
            "text/markdown": "```\nThe candidate is a 29 year old male with a master's degree. They have 5 years of experience and have worked at 5 previous companies. They live 11.0 kilometers from the company. Their interview score was 62 out of 100, skill score was 92 out of 100, and personality score was 11 out of 100. The candidate was sourced through an aggressive recruitment strategy.\n```"
          },
          "metadata": {}
        },
        {
          "output_type": "display_data",
          "data": {
            "text/plain": [
              "<IPython.core.display.Markdown object>"
            ],
            "text/markdown": "### ✍️ Sample 3 | Prediction: **Hire ✅ (0.74)**"
          },
          "metadata": {}
        },
        {
          "output_type": "display_data",
          "data": {
            "text/plain": [
              "<IPython.core.display.Markdown object>"
            ],
            "text/markdown": "```\nThe candidate is a 24 year old female with a master's degree. They have 6 years of experience and have worked at 1 previous companies. They live 42.9 kilometers from the company. Their interview score was 48 out of 100, skill score was 88 out of 100, and personality score was 96 out of 100. The candidate was sourced through an aggressive recruitment strategy.\n```"
          },
          "metadata": {}
        },
        {
          "output_type": "display_data",
          "data": {
            "text/plain": [
              "<IPython.core.display.Markdown object>"
            ],
            "text/markdown": "### ✍️ Sample 4 | Prediction: **No-Hire ❌ (0.10)**"
          },
          "metadata": {}
        },
        {
          "output_type": "display_data",
          "data": {
            "text/plain": [
              "<IPython.core.display.Markdown object>"
            ],
            "text/markdown": "```\nThe candidate is a 25 year old male with a bachelor's degree (type 2). They have 7 years of experience and have worked at 3 previous companies. They live 1.8 kilometers from the company. Their interview score was 0 out of 100, skill score was 49 out of 100, and personality score was 20 out of 100. The candidate was sourced through a moderate recruitment strategy.\n```"
          },
          "metadata": {}
        },
        {
          "output_type": "display_data",
          "data": {
            "text/plain": [
              "<IPython.core.display.Markdown object>"
            ],
            "text/markdown": "### ✍️ Sample 5 | Prediction: **No-Hire ❌ (0.14)**"
          },
          "metadata": {}
        },
        {
          "output_type": "display_data",
          "data": {
            "text/plain": [
              "<IPython.core.display.Markdown object>"
            ],
            "text/markdown": "```\nThe candidate is a 20 year old female with a bachelor's degree (type 2). They have 5 years of experience and have worked at 3 previous companies. They live 47.1 kilometers from the company. Their interview score was 34 out of 100, skill score was 34 out of 100, and personality score was 92 out of 100. The candidate was sourced through a moderate recruitment strategy.\n```"
          },
          "metadata": {}
        }
      ]
    },
    {
      "cell_type": "markdown",
      "source": [
        "Counterfactual Augmentation"
      ],
      "metadata": {
        "id": "Xq6XeSSVTJeu"
      }
    },
    {
      "cell_type": "code",
      "source": [
        "import pandas as pd\n",
        "import numpy as np\n",
        "import re\n",
        "\n",
        "def flip_gender_terms(text):\n",
        "    swaps = {\n",
        "        r\"\\bhe\\b\": \"she\",\n",
        "        r\"\\bshe\\b\": \"he\",\n",
        "        r\"\\bhis\\b\": \"her\",\n",
        "        r\"\\bher\\b\": \"his\",\n",
        "        r\"\\bman\\b\": \"woman\",\n",
        "        r\"\\bwoman\\b\": \"man\",\n",
        "        r\"\\bmale\\b\": \"female\",\n",
        "        r\"\\bfemale\\b\": \"male\"\n",
        "    }\n",
        "\n",
        "    for pat, replacement in swaps.items():\n",
        "        text = re.sub(pat, replacement, text, flags=re.IGNORECASE)\n",
        "    return text\n"
      ],
      "metadata": {
        "id": "ZDgQ5Ap_S7ic"
      },
      "execution_count": 128,
      "outputs": []
    },
    {
      "cell_type": "markdown",
      "source": [
        "Flip Gender"
      ],
      "metadata": {
        "id": "UycA9BvYWuF-"
      }
    },
    {
      "cell_type": "code",
      "source": [
        "counterfactual_train_df = train_df.copy()\n",
        "counterfactual_train_df[\"text\"] = counterfactual_train_df[\"text\"].apply(flip_gender_terms)"
      ],
      "metadata": {
        "id": "CWbgmJa_WtL2"
      },
      "execution_count": 129,
      "outputs": []
    },
    {
      "cell_type": "code",
      "source": [
        "augmented_train_df = pd.concat([train_df, counterfactual_train_df], ignore_index=True)\n",
        "\n",
        "X_train_aug = augmented_train_df[\"text\"]\n",
        "y_train_aug = augmented_train_df[\"HiringDecision\"]\n",
        "\n",
        "X_test = test_df[\"text\"]\n",
        "y_test = test_df[\"HiringDecision\"]\n"
      ],
      "metadata": {
        "id": "cc05GWj-TLOl"
      },
      "execution_count": 145,
      "outputs": []
    },
    {
      "cell_type": "code",
      "source": [
        "from sklearn.pipeline import make_pipeline\n",
        "from sklearn.feature_extraction.text import TfidfVectorizer\n",
        "from sklearn.linear_model import LogisticRegression\n",
        "from sklearn.metrics import accuracy_score, classification_report\n",
        "\n",
        "aug_pipeline = make_pipeline(\n",
        "    TfidfVectorizer(ngram_range=(1, 2), stop_words=\"english\"),\n",
        "    LogisticRegression(max_iter=1000)\n",
        ")\n",
        "\n",
        "aug_pipeline.fit(X_train_aug, y_train_aug)\n"
      ],
      "metadata": {
        "colab": {
          "base_uri": "https://localhost:8080/",
          "height": 155
        },
        "id": "5ZNWwC3CTNn2",
        "outputId": "d43fb6bf-452f-4793-892b-dcf62ad277f2"
      },
      "execution_count": 146,
      "outputs": [
        {
          "output_type": "execute_result",
          "data": {
            "text/plain": [
              "Pipeline(steps=[('tfidfvectorizer',\n",
              "                 TfidfVectorizer(ngram_range=(1, 2), stop_words='english')),\n",
              "                ('logisticregression', LogisticRegression(max_iter=1000))])"
            ],
            "text/html": [
              "<style>#sk-container-id-7 {\n",
              "  /* Definition of color scheme common for light and dark mode */\n",
              "  --sklearn-color-text: #000;\n",
              "  --sklearn-color-text-muted: #666;\n",
              "  --sklearn-color-line: gray;\n",
              "  /* Definition of color scheme for unfitted estimators */\n",
              "  --sklearn-color-unfitted-level-0: #fff5e6;\n",
              "  --sklearn-color-unfitted-level-1: #f6e4d2;\n",
              "  --sklearn-color-unfitted-level-2: #ffe0b3;\n",
              "  --sklearn-color-unfitted-level-3: chocolate;\n",
              "  /* Definition of color scheme for fitted estimators */\n",
              "  --sklearn-color-fitted-level-0: #f0f8ff;\n",
              "  --sklearn-color-fitted-level-1: #d4ebff;\n",
              "  --sklearn-color-fitted-level-2: #b3dbfd;\n",
              "  --sklearn-color-fitted-level-3: cornflowerblue;\n",
              "\n",
              "  /* Specific color for light theme */\n",
              "  --sklearn-color-text-on-default-background: var(--sg-text-color, var(--theme-code-foreground, var(--jp-content-font-color1, black)));\n",
              "  --sklearn-color-background: var(--sg-background-color, var(--theme-background, var(--jp-layout-color0, white)));\n",
              "  --sklearn-color-border-box: var(--sg-text-color, var(--theme-code-foreground, var(--jp-content-font-color1, black)));\n",
              "  --sklearn-color-icon: #696969;\n",
              "\n",
              "  @media (prefers-color-scheme: dark) {\n",
              "    /* Redefinition of color scheme for dark theme */\n",
              "    --sklearn-color-text-on-default-background: var(--sg-text-color, var(--theme-code-foreground, var(--jp-content-font-color1, white)));\n",
              "    --sklearn-color-background: var(--sg-background-color, var(--theme-background, var(--jp-layout-color0, #111)));\n",
              "    --sklearn-color-border-box: var(--sg-text-color, var(--theme-code-foreground, var(--jp-content-font-color1, white)));\n",
              "    --sklearn-color-icon: #878787;\n",
              "  }\n",
              "}\n",
              "\n",
              "#sk-container-id-7 {\n",
              "  color: var(--sklearn-color-text);\n",
              "}\n",
              "\n",
              "#sk-container-id-7 pre {\n",
              "  padding: 0;\n",
              "}\n",
              "\n",
              "#sk-container-id-7 input.sk-hidden--visually {\n",
              "  border: 0;\n",
              "  clip: rect(1px 1px 1px 1px);\n",
              "  clip: rect(1px, 1px, 1px, 1px);\n",
              "  height: 1px;\n",
              "  margin: -1px;\n",
              "  overflow: hidden;\n",
              "  padding: 0;\n",
              "  position: absolute;\n",
              "  width: 1px;\n",
              "}\n",
              "\n",
              "#sk-container-id-7 div.sk-dashed-wrapped {\n",
              "  border: 1px dashed var(--sklearn-color-line);\n",
              "  margin: 0 0.4em 0.5em 0.4em;\n",
              "  box-sizing: border-box;\n",
              "  padding-bottom: 0.4em;\n",
              "  background-color: var(--sklearn-color-background);\n",
              "}\n",
              "\n",
              "#sk-container-id-7 div.sk-container {\n",
              "  /* jupyter's `normalize.less` sets `[hidden] { display: none; }`\n",
              "     but bootstrap.min.css set `[hidden] { display: none !important; }`\n",
              "     so we also need the `!important` here to be able to override the\n",
              "     default hidden behavior on the sphinx rendered scikit-learn.org.\n",
              "     See: https://github.com/scikit-learn/scikit-learn/issues/21755 */\n",
              "  display: inline-block !important;\n",
              "  position: relative;\n",
              "}\n",
              "\n",
              "#sk-container-id-7 div.sk-text-repr-fallback {\n",
              "  display: none;\n",
              "}\n",
              "\n",
              "div.sk-parallel-item,\n",
              "div.sk-serial,\n",
              "div.sk-item {\n",
              "  /* draw centered vertical line to link estimators */\n",
              "  background-image: linear-gradient(var(--sklearn-color-text-on-default-background), var(--sklearn-color-text-on-default-background));\n",
              "  background-size: 2px 100%;\n",
              "  background-repeat: no-repeat;\n",
              "  background-position: center center;\n",
              "}\n",
              "\n",
              "/* Parallel-specific style estimator block */\n",
              "\n",
              "#sk-container-id-7 div.sk-parallel-item::after {\n",
              "  content: \"\";\n",
              "  width: 100%;\n",
              "  border-bottom: 2px solid var(--sklearn-color-text-on-default-background);\n",
              "  flex-grow: 1;\n",
              "}\n",
              "\n",
              "#sk-container-id-7 div.sk-parallel {\n",
              "  display: flex;\n",
              "  align-items: stretch;\n",
              "  justify-content: center;\n",
              "  background-color: var(--sklearn-color-background);\n",
              "  position: relative;\n",
              "}\n",
              "\n",
              "#sk-container-id-7 div.sk-parallel-item {\n",
              "  display: flex;\n",
              "  flex-direction: column;\n",
              "}\n",
              "\n",
              "#sk-container-id-7 div.sk-parallel-item:first-child::after {\n",
              "  align-self: flex-end;\n",
              "  width: 50%;\n",
              "}\n",
              "\n",
              "#sk-container-id-7 div.sk-parallel-item:last-child::after {\n",
              "  align-self: flex-start;\n",
              "  width: 50%;\n",
              "}\n",
              "\n",
              "#sk-container-id-7 div.sk-parallel-item:only-child::after {\n",
              "  width: 0;\n",
              "}\n",
              "\n",
              "/* Serial-specific style estimator block */\n",
              "\n",
              "#sk-container-id-7 div.sk-serial {\n",
              "  display: flex;\n",
              "  flex-direction: column;\n",
              "  align-items: center;\n",
              "  background-color: var(--sklearn-color-background);\n",
              "  padding-right: 1em;\n",
              "  padding-left: 1em;\n",
              "}\n",
              "\n",
              "\n",
              "/* Toggleable style: style used for estimator/Pipeline/ColumnTransformer box that is\n",
              "clickable and can be expanded/collapsed.\n",
              "- Pipeline and ColumnTransformer use this feature and define the default style\n",
              "- Estimators will overwrite some part of the style using the `sk-estimator` class\n",
              "*/\n",
              "\n",
              "/* Pipeline and ColumnTransformer style (default) */\n",
              "\n",
              "#sk-container-id-7 div.sk-toggleable {\n",
              "  /* Default theme specific background. It is overwritten whether we have a\n",
              "  specific estimator or a Pipeline/ColumnTransformer */\n",
              "  background-color: var(--sklearn-color-background);\n",
              "}\n",
              "\n",
              "/* Toggleable label */\n",
              "#sk-container-id-7 label.sk-toggleable__label {\n",
              "  cursor: pointer;\n",
              "  display: flex;\n",
              "  width: 100%;\n",
              "  margin-bottom: 0;\n",
              "  padding: 0.5em;\n",
              "  box-sizing: border-box;\n",
              "  text-align: center;\n",
              "  align-items: start;\n",
              "  justify-content: space-between;\n",
              "  gap: 0.5em;\n",
              "}\n",
              "\n",
              "#sk-container-id-7 label.sk-toggleable__label .caption {\n",
              "  font-size: 0.6rem;\n",
              "  font-weight: lighter;\n",
              "  color: var(--sklearn-color-text-muted);\n",
              "}\n",
              "\n",
              "#sk-container-id-7 label.sk-toggleable__label-arrow:before {\n",
              "  /* Arrow on the left of the label */\n",
              "  content: \"▸\";\n",
              "  float: left;\n",
              "  margin-right: 0.25em;\n",
              "  color: var(--sklearn-color-icon);\n",
              "}\n",
              "\n",
              "#sk-container-id-7 label.sk-toggleable__label-arrow:hover:before {\n",
              "  color: var(--sklearn-color-text);\n",
              "}\n",
              "\n",
              "/* Toggleable content - dropdown */\n",
              "\n",
              "#sk-container-id-7 div.sk-toggleable__content {\n",
              "  max-height: 0;\n",
              "  max-width: 0;\n",
              "  overflow: hidden;\n",
              "  text-align: left;\n",
              "  /* unfitted */\n",
              "  background-color: var(--sklearn-color-unfitted-level-0);\n",
              "}\n",
              "\n",
              "#sk-container-id-7 div.sk-toggleable__content.fitted {\n",
              "  /* fitted */\n",
              "  background-color: var(--sklearn-color-fitted-level-0);\n",
              "}\n",
              "\n",
              "#sk-container-id-7 div.sk-toggleable__content pre {\n",
              "  margin: 0.2em;\n",
              "  border-radius: 0.25em;\n",
              "  color: var(--sklearn-color-text);\n",
              "  /* unfitted */\n",
              "  background-color: var(--sklearn-color-unfitted-level-0);\n",
              "}\n",
              "\n",
              "#sk-container-id-7 div.sk-toggleable__content.fitted pre {\n",
              "  /* unfitted */\n",
              "  background-color: var(--sklearn-color-fitted-level-0);\n",
              "}\n",
              "\n",
              "#sk-container-id-7 input.sk-toggleable__control:checked~div.sk-toggleable__content {\n",
              "  /* Expand drop-down */\n",
              "  max-height: 200px;\n",
              "  max-width: 100%;\n",
              "  overflow: auto;\n",
              "}\n",
              "\n",
              "#sk-container-id-7 input.sk-toggleable__control:checked~label.sk-toggleable__label-arrow:before {\n",
              "  content: \"▾\";\n",
              "}\n",
              "\n",
              "/* Pipeline/ColumnTransformer-specific style */\n",
              "\n",
              "#sk-container-id-7 div.sk-label input.sk-toggleable__control:checked~label.sk-toggleable__label {\n",
              "  color: var(--sklearn-color-text);\n",
              "  background-color: var(--sklearn-color-unfitted-level-2);\n",
              "}\n",
              "\n",
              "#sk-container-id-7 div.sk-label.fitted input.sk-toggleable__control:checked~label.sk-toggleable__label {\n",
              "  background-color: var(--sklearn-color-fitted-level-2);\n",
              "}\n",
              "\n",
              "/* Estimator-specific style */\n",
              "\n",
              "/* Colorize estimator box */\n",
              "#sk-container-id-7 div.sk-estimator input.sk-toggleable__control:checked~label.sk-toggleable__label {\n",
              "  /* unfitted */\n",
              "  background-color: var(--sklearn-color-unfitted-level-2);\n",
              "}\n",
              "\n",
              "#sk-container-id-7 div.sk-estimator.fitted input.sk-toggleable__control:checked~label.sk-toggleable__label {\n",
              "  /* fitted */\n",
              "  background-color: var(--sklearn-color-fitted-level-2);\n",
              "}\n",
              "\n",
              "#sk-container-id-7 div.sk-label label.sk-toggleable__label,\n",
              "#sk-container-id-7 div.sk-label label {\n",
              "  /* The background is the default theme color */\n",
              "  color: var(--sklearn-color-text-on-default-background);\n",
              "}\n",
              "\n",
              "/* On hover, darken the color of the background */\n",
              "#sk-container-id-7 div.sk-label:hover label.sk-toggleable__label {\n",
              "  color: var(--sklearn-color-text);\n",
              "  background-color: var(--sklearn-color-unfitted-level-2);\n",
              "}\n",
              "\n",
              "/* Label box, darken color on hover, fitted */\n",
              "#sk-container-id-7 div.sk-label.fitted:hover label.sk-toggleable__label.fitted {\n",
              "  color: var(--sklearn-color-text);\n",
              "  background-color: var(--sklearn-color-fitted-level-2);\n",
              "}\n",
              "\n",
              "/* Estimator label */\n",
              "\n",
              "#sk-container-id-7 div.sk-label label {\n",
              "  font-family: monospace;\n",
              "  font-weight: bold;\n",
              "  display: inline-block;\n",
              "  line-height: 1.2em;\n",
              "}\n",
              "\n",
              "#sk-container-id-7 div.sk-label-container {\n",
              "  text-align: center;\n",
              "}\n",
              "\n",
              "/* Estimator-specific */\n",
              "#sk-container-id-7 div.sk-estimator {\n",
              "  font-family: monospace;\n",
              "  border: 1px dotted var(--sklearn-color-border-box);\n",
              "  border-radius: 0.25em;\n",
              "  box-sizing: border-box;\n",
              "  margin-bottom: 0.5em;\n",
              "  /* unfitted */\n",
              "  background-color: var(--sklearn-color-unfitted-level-0);\n",
              "}\n",
              "\n",
              "#sk-container-id-7 div.sk-estimator.fitted {\n",
              "  /* fitted */\n",
              "  background-color: var(--sklearn-color-fitted-level-0);\n",
              "}\n",
              "\n",
              "/* on hover */\n",
              "#sk-container-id-7 div.sk-estimator:hover {\n",
              "  /* unfitted */\n",
              "  background-color: var(--sklearn-color-unfitted-level-2);\n",
              "}\n",
              "\n",
              "#sk-container-id-7 div.sk-estimator.fitted:hover {\n",
              "  /* fitted */\n",
              "  background-color: var(--sklearn-color-fitted-level-2);\n",
              "}\n",
              "\n",
              "/* Specification for estimator info (e.g. \"i\" and \"?\") */\n",
              "\n",
              "/* Common style for \"i\" and \"?\" */\n",
              "\n",
              ".sk-estimator-doc-link,\n",
              "a:link.sk-estimator-doc-link,\n",
              "a:visited.sk-estimator-doc-link {\n",
              "  float: right;\n",
              "  font-size: smaller;\n",
              "  line-height: 1em;\n",
              "  font-family: monospace;\n",
              "  background-color: var(--sklearn-color-background);\n",
              "  border-radius: 1em;\n",
              "  height: 1em;\n",
              "  width: 1em;\n",
              "  text-decoration: none !important;\n",
              "  margin-left: 0.5em;\n",
              "  text-align: center;\n",
              "  /* unfitted */\n",
              "  border: var(--sklearn-color-unfitted-level-1) 1pt solid;\n",
              "  color: var(--sklearn-color-unfitted-level-1);\n",
              "}\n",
              "\n",
              ".sk-estimator-doc-link.fitted,\n",
              "a:link.sk-estimator-doc-link.fitted,\n",
              "a:visited.sk-estimator-doc-link.fitted {\n",
              "  /* fitted */\n",
              "  border: var(--sklearn-color-fitted-level-1) 1pt solid;\n",
              "  color: var(--sklearn-color-fitted-level-1);\n",
              "}\n",
              "\n",
              "/* On hover */\n",
              "div.sk-estimator:hover .sk-estimator-doc-link:hover,\n",
              ".sk-estimator-doc-link:hover,\n",
              "div.sk-label-container:hover .sk-estimator-doc-link:hover,\n",
              ".sk-estimator-doc-link:hover {\n",
              "  /* unfitted */\n",
              "  background-color: var(--sklearn-color-unfitted-level-3);\n",
              "  color: var(--sklearn-color-background);\n",
              "  text-decoration: none;\n",
              "}\n",
              "\n",
              "div.sk-estimator.fitted:hover .sk-estimator-doc-link.fitted:hover,\n",
              ".sk-estimator-doc-link.fitted:hover,\n",
              "div.sk-label-container:hover .sk-estimator-doc-link.fitted:hover,\n",
              ".sk-estimator-doc-link.fitted:hover {\n",
              "  /* fitted */\n",
              "  background-color: var(--sklearn-color-fitted-level-3);\n",
              "  color: var(--sklearn-color-background);\n",
              "  text-decoration: none;\n",
              "}\n",
              "\n",
              "/* Span, style for the box shown on hovering the info icon */\n",
              ".sk-estimator-doc-link span {\n",
              "  display: none;\n",
              "  z-index: 9999;\n",
              "  position: relative;\n",
              "  font-weight: normal;\n",
              "  right: .2ex;\n",
              "  padding: .5ex;\n",
              "  margin: .5ex;\n",
              "  width: min-content;\n",
              "  min-width: 20ex;\n",
              "  max-width: 50ex;\n",
              "  color: var(--sklearn-color-text);\n",
              "  box-shadow: 2pt 2pt 4pt #999;\n",
              "  /* unfitted */\n",
              "  background: var(--sklearn-color-unfitted-level-0);\n",
              "  border: .5pt solid var(--sklearn-color-unfitted-level-3);\n",
              "}\n",
              "\n",
              ".sk-estimator-doc-link.fitted span {\n",
              "  /* fitted */\n",
              "  background: var(--sklearn-color-fitted-level-0);\n",
              "  border: var(--sklearn-color-fitted-level-3);\n",
              "}\n",
              "\n",
              ".sk-estimator-doc-link:hover span {\n",
              "  display: block;\n",
              "}\n",
              "\n",
              "/* \"?\"-specific style due to the `<a>` HTML tag */\n",
              "\n",
              "#sk-container-id-7 a.estimator_doc_link {\n",
              "  float: right;\n",
              "  font-size: 1rem;\n",
              "  line-height: 1em;\n",
              "  font-family: monospace;\n",
              "  background-color: var(--sklearn-color-background);\n",
              "  border-radius: 1rem;\n",
              "  height: 1rem;\n",
              "  width: 1rem;\n",
              "  text-decoration: none;\n",
              "  /* unfitted */\n",
              "  color: var(--sklearn-color-unfitted-level-1);\n",
              "  border: var(--sklearn-color-unfitted-level-1) 1pt solid;\n",
              "}\n",
              "\n",
              "#sk-container-id-7 a.estimator_doc_link.fitted {\n",
              "  /* fitted */\n",
              "  border: var(--sklearn-color-fitted-level-1) 1pt solid;\n",
              "  color: var(--sklearn-color-fitted-level-1);\n",
              "}\n",
              "\n",
              "/* On hover */\n",
              "#sk-container-id-7 a.estimator_doc_link:hover {\n",
              "  /* unfitted */\n",
              "  background-color: var(--sklearn-color-unfitted-level-3);\n",
              "  color: var(--sklearn-color-background);\n",
              "  text-decoration: none;\n",
              "}\n",
              "\n",
              "#sk-container-id-7 a.estimator_doc_link.fitted:hover {\n",
              "  /* fitted */\n",
              "  background-color: var(--sklearn-color-fitted-level-3);\n",
              "}\n",
              "</style><div id=\"sk-container-id-7\" class=\"sk-top-container\"><div class=\"sk-text-repr-fallback\"><pre>Pipeline(steps=[(&#x27;tfidfvectorizer&#x27;,\n",
              "                 TfidfVectorizer(ngram_range=(1, 2), stop_words=&#x27;english&#x27;)),\n",
              "                (&#x27;logisticregression&#x27;, LogisticRegression(max_iter=1000))])</pre><b>In a Jupyter environment, please rerun this cell to show the HTML representation or trust the notebook. <br />On GitHub, the HTML representation is unable to render, please try loading this page with nbviewer.org.</b></div><div class=\"sk-container\" hidden><div class=\"sk-item sk-dashed-wrapped\"><div class=\"sk-label-container\"><div class=\"sk-label fitted sk-toggleable\"><input class=\"sk-toggleable__control sk-hidden--visually\" id=\"sk-estimator-id-17\" type=\"checkbox\" ><label for=\"sk-estimator-id-17\" class=\"sk-toggleable__label fitted sk-toggleable__label-arrow\"><div><div>Pipeline</div></div><div><a class=\"sk-estimator-doc-link fitted\" rel=\"noreferrer\" target=\"_blank\" href=\"https://scikit-learn.org/1.6/modules/generated/sklearn.pipeline.Pipeline.html\">?<span>Documentation for Pipeline</span></a><span class=\"sk-estimator-doc-link fitted\">i<span>Fitted</span></span></div></label><div class=\"sk-toggleable__content fitted\"><pre>Pipeline(steps=[(&#x27;tfidfvectorizer&#x27;,\n",
              "                 TfidfVectorizer(ngram_range=(1, 2), stop_words=&#x27;english&#x27;)),\n",
              "                (&#x27;logisticregression&#x27;, LogisticRegression(max_iter=1000))])</pre></div> </div></div><div class=\"sk-serial\"><div class=\"sk-item\"><div class=\"sk-estimator fitted sk-toggleable\"><input class=\"sk-toggleable__control sk-hidden--visually\" id=\"sk-estimator-id-18\" type=\"checkbox\" ><label for=\"sk-estimator-id-18\" class=\"sk-toggleable__label fitted sk-toggleable__label-arrow\"><div><div>TfidfVectorizer</div></div><div><a class=\"sk-estimator-doc-link fitted\" rel=\"noreferrer\" target=\"_blank\" href=\"https://scikit-learn.org/1.6/modules/generated/sklearn.feature_extraction.text.TfidfVectorizer.html\">?<span>Documentation for TfidfVectorizer</span></a></div></label><div class=\"sk-toggleable__content fitted\"><pre>TfidfVectorizer(ngram_range=(1, 2), stop_words=&#x27;english&#x27;)</pre></div> </div></div><div class=\"sk-item\"><div class=\"sk-estimator fitted sk-toggleable\"><input class=\"sk-toggleable__control sk-hidden--visually\" id=\"sk-estimator-id-19\" type=\"checkbox\" ><label for=\"sk-estimator-id-19\" class=\"sk-toggleable__label fitted sk-toggleable__label-arrow\"><div><div>LogisticRegression</div></div><div><a class=\"sk-estimator-doc-link fitted\" rel=\"noreferrer\" target=\"_blank\" href=\"https://scikit-learn.org/1.6/modules/generated/sklearn.linear_model.LogisticRegression.html\">?<span>Documentation for LogisticRegression</span></a></div></label><div class=\"sk-toggleable__content fitted\"><pre>LogisticRegression(max_iter=1000)</pre></div> </div></div></div></div></div></div>"
            ]
          },
          "metadata": {},
          "execution_count": 146
        }
      ]
    },
    {
      "cell_type": "code",
      "source": [
        "y_pred_aug = aug_pipeline.predict(X_test)"
      ],
      "metadata": {
        "id": "n12MPnYMWxUl"
      },
      "execution_count": 147,
      "outputs": []
    },
    {
      "cell_type": "markdown",
      "source": [
        "Accuracy After Counterfactual Augmentation"
      ],
      "metadata": {
        "id": "Qbp5-SAeWyqm"
      }
    },
    {
      "cell_type": "code",
      "source": [
        "print(\"Accuracy After:\", accuracy_score(y_test, y_pred_aug))\n",
        "print(\"Classification Report After:\\n\", classification_report(y_test, y_pred_aug))\n"
      ],
      "metadata": {
        "colab": {
          "base_uri": "https://localhost:8080/"
        },
        "id": "U5K0BUZuTPN-",
        "outputId": "02a15aad-075c-4c30-efab-435b54b895d0"
      },
      "execution_count": 148,
      "outputs": [
        {
          "output_type": "stream",
          "name": "stdout",
          "text": [
            "Accuracy After: 0.8467432950191571\n",
            "Classification Report After:\n",
            "               precision    recall  f1-score   support\n",
            "\n",
            "           0       0.86      0.93      0.89       362\n",
            "           1       0.81      0.66      0.72       160\n",
            "\n",
            "    accuracy                           0.85       522\n",
            "   macro avg       0.83      0.79      0.81       522\n",
            "weighted avg       0.84      0.85      0.84       522\n",
            "\n"
          ]
        }
      ]
    }
  ]
}